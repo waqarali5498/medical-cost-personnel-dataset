{
 "cells": [
  {
   "metadata": {
    "ExecuteTime": {
     "end_time": "2024-07-16T09:14:53.204988Z",
     "start_time": "2024-07-16T09:14:51.855685Z"
    }
   },
   "cell_type": "code",
   "source": [
    "import pandas as pd\n",
    "import numpy as np\n",
    "import matplotlib.pyplot as plt"
   ],
   "id": "d238eae3c89dc4d8",
   "outputs": [],
   "execution_count": 1
  },
  {
   "metadata": {
    "ExecuteTime": {
     "end_time": "2024-07-16T09:14:55.239101Z",
     "start_time": "2024-07-16T09:14:55.217379Z"
    }
   },
   "cell_type": "code",
   "source": [
    "dataset = pd.read_csv('insurance.csv')\n",
    "dataset.head()\n",
    "X=dataset.iloc[:,0:-1].values\n",
    "Y=dataset.iloc[:,-1].values\n",
    "X"
   ],
   "id": "3a0597a717727b05",
   "outputs": [
    {
     "data": {
      "text/plain": [
       "array([[19, 'female', 27.9, 0, 'yes', 'southwest'],\n",
       "       [18, 'male', 33.77, 1, 'no', 'southeast'],\n",
       "       [28, 'male', 33.0, 3, 'no', 'southeast'],\n",
       "       ...,\n",
       "       [18, 'female', 36.85, 0, 'no', 'southeast'],\n",
       "       [21, 'female', 25.8, 0, 'no', 'southwest'],\n",
       "       [61, 'female', 29.07, 0, 'yes', 'northwest']], dtype=object)"
      ]
     },
     "execution_count": 2,
     "metadata": {},
     "output_type": "execute_result"
    }
   ],
   "execution_count": 2
  },
  {
   "metadata": {
    "ExecuteTime": {
     "end_time": "2024-07-16T09:14:57.849311Z",
     "start_time": "2024-07-16T09:14:56.690969Z"
    }
   },
   "cell_type": "code",
   "source": [
    "from sklearn.preprocessing import LabelEncoder\n",
    "labelencoder_x=LabelEncoder()\n",
    "X[:,1]=labelencoder_x.fit_transform(X[:,1])\n",
    "X"
   ],
   "id": "3a5f1abdf6969078",
   "outputs": [
    {
     "data": {
      "text/plain": [
       "array([[19, 0, 27.9, 0, 'yes', 'southwest'],\n",
       "       [18, 1, 33.77, 1, 'no', 'southeast'],\n",
       "       [28, 1, 33.0, 3, 'no', 'southeast'],\n",
       "       ...,\n",
       "       [18, 0, 36.85, 0, 'no', 'southeast'],\n",
       "       [21, 0, 25.8, 0, 'no', 'southwest'],\n",
       "       [61, 0, 29.07, 0, 'yes', 'northwest']], dtype=object)"
      ]
     },
     "execution_count": 3,
     "metadata": {},
     "output_type": "execute_result"
    }
   ],
   "execution_count": 3
  },
  {
   "metadata": {
    "ExecuteTime": {
     "end_time": "2024-07-16T09:14:58.969313Z",
     "start_time": "2024-07-16T09:14:58.962929Z"
    }
   },
   "cell_type": "code",
   "source": [
    "from sklearn.preprocessing import LabelEncoder\n",
    "labelencoder_x=LabelEncoder()\n",
    "X[:,4]=labelencoder_x.fit_transform(X[:,4])\n",
    "X"
   ],
   "id": "450e3055c01d8ccf",
   "outputs": [
    {
     "data": {
      "text/plain": [
       "array([[19, 0, 27.9, 0, 1, 'southwest'],\n",
       "       [18, 1, 33.77, 1, 0, 'southeast'],\n",
       "       [28, 1, 33.0, 3, 0, 'southeast'],\n",
       "       ...,\n",
       "       [18, 0, 36.85, 0, 0, 'southeast'],\n",
       "       [21, 0, 25.8, 0, 0, 'southwest'],\n",
       "       [61, 0, 29.07, 0, 1, 'northwest']], dtype=object)"
      ]
     },
     "execution_count": 4,
     "metadata": {},
     "output_type": "execute_result"
    }
   ],
   "execution_count": 4
  },
  {
   "metadata": {
    "ExecuteTime": {
     "end_time": "2024-07-16T09:15:00.583134Z",
     "start_time": "2024-07-16T09:15:00.576905Z"
    }
   },
   "cell_type": "code",
   "source": [
    "from sklearn.preprocessing import LabelEncoder\n",
    "\n",
    "\n",
    "labelencoder_x = LabelEncoder()\n",
    "X[:, 5] = labelencoder_x.fit_transform(X[:, 5])\n",
    "X"
   ],
   "id": "c20734a97edf8bd9",
   "outputs": [
    {
     "data": {
      "text/plain": [
       "array([[19, 0, 27.9, 0, 1, 3],\n",
       "       [18, 1, 33.77, 1, 0, 2],\n",
       "       [28, 1, 33.0, 3, 0, 2],\n",
       "       ...,\n",
       "       [18, 0, 36.85, 0, 0, 2],\n",
       "       [21, 0, 25.8, 0, 0, 3],\n",
       "       [61, 0, 29.07, 0, 1, 1]], dtype=object)"
      ]
     },
     "execution_count": 5,
     "metadata": {},
     "output_type": "execute_result"
    }
   ],
   "execution_count": 5
  },
  {
   "metadata": {
    "ExecuteTime": {
     "end_time": "2024-07-16T09:15:03.648782Z",
     "start_time": "2024-07-16T09:15:03.594534Z"
    }
   },
   "cell_type": "code",
   "source": [
    "from sklearn.preprocessing import OneHotEncoder\n",
    "from sklearn.compose import ColumnTransformer\n",
    "#Argument should be categorial data feild\n",
    "\n",
    "\n",
    "# Country column\n",
    "# Assuming X is your dataset\n",
    "# Define the ColumnTransformer with OneHotEncoder for the first column (index 0)\n",
    "ct = ColumnTransformer(\n",
    "    transformers=[\n",
    "        ('Country', OneHotEncoder(drop='first'), [5])\n",
    "    ], remainder='passthrough'\n",
    ")\n",
    "\n",
    "# Fit and transform the dataset\n",
    "X = np.array(ct.fit_transform(X))\n",
    "X"
   ],
   "id": "b96acf59327bc51",
   "outputs": [
    {
     "data": {
      "text/plain": [
       "array([[0.0, 0.0, 1.0, ..., 27.9, 0, 1],\n",
       "       [0.0, 1.0, 0.0, ..., 33.77, 1, 0],\n",
       "       [0.0, 1.0, 0.0, ..., 33.0, 3, 0],\n",
       "       ...,\n",
       "       [0.0, 1.0, 0.0, ..., 36.85, 0, 0],\n",
       "       [0.0, 0.0, 1.0, ..., 25.8, 0, 0],\n",
       "       [1.0, 0.0, 0.0, ..., 29.07, 0, 1]], dtype=object)"
      ]
     },
     "execution_count": 6,
     "metadata": {},
     "output_type": "execute_result"
    }
   ],
   "execution_count": 6
  },
  {
   "metadata": {
    "ExecuteTime": {
     "end_time": "2024-07-16T09:15:05.647051Z",
     "start_time": "2024-07-16T09:15:05.583705Z"
    }
   },
   "cell_type": "code",
   "source": [
    "from sklearn.model_selection import train_test_split\n",
    "X_train, X_test, Y_train, Y_test = train_test_split(X, Y, test_size=0.2, random_state=0)\n",
    "len(X_train), len(X_test), len(Y_train), len(Y_test)"
   ],
   "id": "7f11c9be4cbfada5",
   "outputs": [
    {
     "data": {
      "text/plain": [
       "(1070, 268, 1070, 268)"
      ]
     },
     "execution_count": 7,
     "metadata": {},
     "output_type": "execute_result"
    }
   ],
   "execution_count": 7
  },
  {
   "metadata": {},
   "cell_type": "markdown",
   "source": "# Multi Linear Regression",
   "id": "967bbdc34791f262"
  },
  {
   "metadata": {
    "ExecuteTime": {
     "end_time": "2024-07-16T09:15:10.049250Z",
     "start_time": "2024-07-16T09:15:09.925196Z"
    }
   },
   "cell_type": "code",
   "source": [
    "from sklearn.linear_model import LinearRegression\n",
    "regressor=LinearRegression()\n",
    "regressor.fit(X_train,Y_train)\n",
    "\n",
    "Y_pred=regressor.predict(X_test)\n",
    "\n",
    "list(zip(Y_test,Y_pred))\n"
   ],
   "id": "319300ec73e0ae92",
   "outputs": [
    {
     "data": {
      "text/plain": [
       "[(9724.53, 11169.927118789876),\n",
       " (8547.6913, 9486.709085405562),\n",
       " (45702.02235, 38181.12305255844),\n",
       " (12950.0712, 16266.31328947719),\n",
       " (9644.2525, 6914.648007289912),\n",
       " (4500.33925, 3963.4848759883444),\n",
       " (2198.18985, 1579.396912768143),\n",
       " (11436.73815, 14385.256568696494),\n",
       " (7537.1639, 9012.579695808758),\n",
       " (5425.02335, 7508.460676946428),\n",
       " (6753.038, 4491.767281771374),\n",
       " (10493.9458, 10279.583941461797),\n",
       " (7337.748, 8801.297505994035),\n",
       " (4185.0979, 3798.020130228888),\n",
       " (18310.742, 27926.200965643322),\n",
       " (10702.6424, 10715.1158201356),\n",
       " (12523.6048, 11288.975621267147),\n",
       " (3490.5491, 6105.017680390791),\n",
       " (6457.8434, 8241.041173782747),\n",
       " (33475.81715, 27144.50894993334),\n",
       " (23967.38305, 33644.09097034397),\n",
       " (12643.3778, 14355.104327491825),\n",
       " (23045.56616, 11737.204332182539),\n",
       " (23065.4207, 32137.433498320584),\n",
       " (1674.6323, 4170.059129750516),\n",
       " (4667.60765, 9254.960513111813),\n",
       " (3732.6251, 1084.3375099829118),\n",
       " (7682.67, 9804.170845208237),\n",
       " (3756.6216, 3771.045955435344),\n",
       " (8413.46305, 10431.85874659398),\n",
       " (8059.6791, 9009.317217318161),\n",
       " (48970.2476, 40074.9509441414),\n",
       " (12979.358, 15688.954256907402),\n",
       " (20630.28351, 13879.454478290621),\n",
       " (14571.8908, 24759.712669162647),\n",
       " (4137.5227, 5166.382852994137),\n",
       " (8347.1643, 12610.927744095256),\n",
       " (51194.55914, 30769.101844374978),\n",
       " (40003.33225, 33549.83246049205),\n",
       " (1880.487, 3671.549463139603),\n",
       " (5458.04645, 3975.686125369475),\n",
       " (2867.1196, 3987.2994197566204),\n",
       " (20149.3229, 30528.577411309343),\n",
       " (47496.49445, 39505.302289035746),\n",
       " (36149.4835, 27810.503594661735),\n",
       " (26018.95052, 5092.5892332762505),\n",
       " (19749.38338, 10604.24809142708),\n",
       " (6940.90985, 7829.522563557579),\n",
       " (4718.20355, 3592.5555301981676),\n",
       " (22192.43711, 10212.87451248539),\n",
       " (2899.48935, 5720.381472754436),\n",
       " (18838.70366, 3426.274986904433),\n",
       " (23568.272, 33021.02419649305),\n",
       " (46255.1125, 38473.821839976314),\n",
       " (24227.33724, 16053.478151314068),\n",
       " (3268.84665, 7164.919047008434),\n",
       " (2322.6218, 5739.199771687376),\n",
       " (8827.2099, 9454.132907102123),\n",
       " (14478.33015, 8910.62700660468),\n",
       " (13112.6048, 11725.885741866607),\n",
       " (1253.936, 1856.956290035403),\n",
       " (46718.16325, 38914.360497278554),\n",
       " (13919.8229, 14899.67301887732),\n",
       " (9630.397, 11804.958150155506),\n",
       " (10736.87075, 14050.402456088535),\n",
       " (9880.068, 14056.144519757678),\n",
       " (32548.3405, 25831.385792218185),\n",
       " (38746.3551, 32230.554301875905),\n",
       " (3180.5101, 814.4043657158818),\n",
       " (8162.71625, 10164.842359222004),\n",
       " (13041.921, 12359.859593912739),\n",
       " (11554.2236, 11527.823529115902),\n",
       " (16232.847, 25245.326117146004),\n",
       " (13887.9685, 15622.008809109591),\n",
       " (13012.20865, 11208.689947072422),\n",
       " (13217.0945, 12649.731971529158),\n",
       " (7147.105, 6556.707767879916),\n",
       " (7731.4271, 9590.52489417168),\n",
       " (20296.86345, 30186.302054384054),\n",
       " (47403.88, 39107.6220497008),\n",
       " (11658.37915, 12049.844048756173),\n",
       " (45863.205, 37294.26839803392),\n",
       " (2055.3249, 4265.5069596712765),\n",
       " (7441.053, 9394.023621599916),\n",
       " (41034.2214, 34852.77159229653),\n",
       " (18972.495, 28847.69759676778),\n",
       " (3410.324, 8687.92419117145),\n",
       " (2699.56835, 4929.227817155226),\n",
       " (12333.828, 12038.731017455573),\n",
       " (36837.467, 30470.03362727759),\n",
       " (6334.34355, 10080.411547471487),\n",
       " (10214.636, 11393.329652705635),\n",
       " (17878.90068, 8398.102252124407),\n",
       " (8515.7587, 8898.835472834797),\n",
       " (4518.82625, 8431.790305755958),\n",
       " (5148.5526, 7323.519732299073),\n",
       " (42303.69215, 36024.02643588312),\n",
       " (38998.546, 33182.25051008839),\n",
       " (5327.40025, 7661.510696617383),\n",
       " (10602.385, 15141.043420693915),\n",
       " (1824.2854, 4017.2446240845074),\n",
       " (5377.4578, 8828.720487049342),\n",
       " (4349.462, 6322.854729425997),\n",
       " (37742.5757, 31548.618849035032),\n",
       " (32787.45859, 32978.60588670921),\n",
       " (3353.4703, 1974.8288417217354),\n",
       " (10577.087, 9026.520201011916),\n",
       " (3556.9223, 6696.834771087915),\n",
       " (11944.59435, 14584.435230832487),\n",
       " (52590.82939, 37241.14157956393),\n",
       " (12475.3513, 10135.47269268137),\n",
       " (4266.1658, 10584.294776841076),\n",
       " (9249.4952, 10228.93390761873),\n",
       " (33732.6867, 26988.18909164652),\n",
       " (48675.5177, 39900.15313106982),\n",
       " (7729.64575, 8462.73248174993),\n",
       " (1964.78, 296.616054636208),\n",
       " (8444.474, 9016.149867627615),\n",
       " (12347.172, 15263.974034430697),\n",
       " (9301.89355, 9526.645999017861),\n",
       " (42124.5153, 35152.63544199646),\n",
       " (9991.03765, 7264.097908954927),\n",
       " (14319.031, 16984.533456793215),\n",
       " (5428.7277, 9653.296222469084),\n",
       " (7626.993, 8248.687251348825),\n",
       " (4906.40965, 2941.1360064965065),\n",
       " (23401.30575, 32914.8058545026),\n",
       " (21098.55405, 31483.558625642916),\n",
       " (48173.361, 39626.47756086844),\n",
       " (1917.3184, 5607.6298278468585),\n",
       " (8219.2039, 9310.34134548735),\n",
       " (1725.5523, 3592.167251955714),\n",
       " (5976.8311, 7646.875503852554),\n",
       " (9361.3268, 8627.474510074264),\n",
       " (22144.032, 31733.836706838687),\n",
       " (35491.64, 29973.002961464765),\n",
       " (19515.5416, 29781.745894940344),\n",
       " (10107.2206, 8726.057497616866),\n",
       " (23244.7902, 32433.53068588364),\n",
       " (2789.0574, 3360.294212095154),\n",
       " (2261.5688, 3709.7367536349047),\n",
       " (10594.50155, 11137.549480716227),\n",
       " (9304.7019, 13150.293785473912),\n",
       " (10435.06525, 12867.470950617599),\n",
       " (4894.7533, 5448.837425858745),\n",
       " (14313.8463, 15580.062032152104),\n",
       " (28287.89766, 14933.24920260627),\n",
       " (14426.07385, 2408.3434969250866),\n",
       " (1627.28245, 25.510519127938096),\n",
       " (25517.11363, 10846.813084844876),\n",
       " (6555.07035, 7409.481698893736),\n",
       " (39611.7577, 31852.228022513416),\n",
       " (9964.06, 12383.69723564395),\n",
       " (1720.3537, 2335.666326592489),\n",
       " (2730.10785, 6478.180230429918),\n",
       " (6500.2359, 7858.629226493633),\n",
       " (2643.2685, 4447.085341426873),\n",
       " (1719.4363, 2113.9308691754504),\n",
       " (11085.5868, 11354.823409170915),\n",
       " (10115.00885, 12540.62641905968),\n",
       " (4846.92015, 7264.454888543756),\n",
       " (12982.8747, 16387.610049585484),\n",
       " (28923.13692, 11815.1028268266),\n",
       " (9391.346, 14107.873354739602),\n",
       " (4544.2348, 3184.299398463594),\n",
       " (17128.42608, 7291.344651257832),\n",
       " (13844.506, 23125.69758551701),\n",
       " (6113.23105, 7592.558332989114),\n",
       " (4441.21315, 5490.448604410123),\n",
       " (1633.9618, 5203.295885550839),\n",
       " (4058.71245, 6758.910839773334),\n",
       " (4435.0942, 5198.173693569368),\n",
       " (8310.83915, 10003.75440997954),\n",
       " (1986.9334, 5379.62241076827),\n",
       " (4260.744, 5734.831151451488),\n",
       " (4504.6624, 6641.8452013745355),\n",
       " (4428.88785, 3698.0997278616687),\n",
       " (6117.4945, 5568.347099054185),\n",
       " (30184.9367, 38062.310589876404),\n",
       " (1708.92575, 1500.1002501854546),\n",
       " (11187.6567, 12638.140047276936),\n",
       " (6796.86325, 8966.83073982685),\n",
       " (11356.6609, 13783.35379273071),\n",
       " (2498.4144, 5401.605718173831),\n",
       " (27375.90478, 5188.386258097575),\n",
       " (28101.33305, 36459.43830414279),\n",
       " (2254.7967, 4397.973822553207),\n",
       " (2597.779, 2044.0166648867598),\n",
       " (14692.66935, 15223.639876882082),\n",
       " (10370.91255, 12679.751225828315),\n",
       " (41097.16175, 35138.52154615609),\n",
       " (3981.9768, 4780.688262282687),\n",
       " (5472.449, 5681.542751731116),\n",
       " (21223.6758, 31230.03707339272),\n",
       " (2534.39375, 6207.517750619843),\n",
       " (1972.95, 2151.166626650329),\n",
       " (6406.4107, 8438.972210620943),\n",
       " (6551.7501, 10046.863840870703),\n",
       " (4058.1161, 8002.3719743635975),\n",
       " (4243.59005, 5804.812284504953),\n",
       " (11512.405, 13160.262462311372),\n",
       " (46889.2612, 38467.45328994733),\n",
       " (12268.63225, 13750.322686982943),\n",
       " (19199.944, 28876.414034553054),\n",
       " (4433.3877, 6787.564828638218),\n",
       " (42969.8527, 35530.81638448057),\n",
       " (23241.47453, 3766.82638030853),\n",
       " (9140.951, 11891.941846415988),\n",
       " (5836.5204, 9059.611875423127),\n",
       " (1149.3959, 6259.553535194804),\n",
       " (8765.249, 11362.463004544394),\n",
       " (14043.4767, 14561.457534367533),\n",
       " (5312.16985, 5166.999538248308),\n",
       " (10795.93733, 4466.247243362124),\n",
       " (6282.235, 7908.87368323012),\n",
       " (1969.614, 1344.855872406546),\n",
       " (6746.7425, 7856.186615090248),\n",
       " (5354.07465, 4417.489963704829),\n",
       " (14001.2867, 12887.552587814165),\n",
       " (6877.9801, 4241.462247568916),\n",
       " (6196.448, 10113.112046378626),\n",
       " (7986.47525, 7196.510810760932),\n",
       " (8277.523, 9296.927069119161),\n",
       " (3206.49135, 2397.8063892936098),\n",
       " (11848.141, 13244.97588503143),\n",
       " (14210.53595, 16867.832451495473),\n",
       " (12265.5069, 14941.661010535592),\n",
       " (11837.16, 10590.86965231232),\n",
       " (6652.5288, 5290.0678846326755),\n",
       " (2137.6536, 2233.379229972228),\n",
       " (1131.5066, 1935.7121155625373),\n",
       " (8342.90875, 13508.92978931235),\n",
       " (12244.531, 14052.86816717273),\n",
       " (4561.1885, 5018.610165006574),\n",
       " (17626.23951, 3759.4942938127406),\n",
       " (6875.961, 9488.0573723416),\n",
       " (9447.3824, 9978.403162234868),\n",
       " (34254.05335, 28286.976817749528),\n",
       " (6067.12675, 7649.349709865875),\n",
       " (11729.6795, 10470.9900213188),\n",
       " (5383.536, 6323.1704145848),\n",
       " (37465.34375, 29854.762881912968),\n",
       " (7371.772, 11149.738890127706),\n",
       " (7325.0482, 7506.99532711099),\n",
       " (8410.04685, 10233.701998574377),\n",
       " (10461.9794, 12247.967894271422),\n",
       " (3279.86855, 3007.356120758135),\n",
       " (7727.2532, 10875.419450954882),\n",
       " (2731.9122, 1540.9554884314657),\n",
       " (6858.4796, 7038.043112375801),\n",
       " (19521.9682, 28446.214673591967),\n",
       " (47305.305, 38689.94935886932),\n",
       " (3987.926, 6369.939234771331),\n",
       " (3238.4357, 8192.183604299893),\n",
       " (7323.734819, 2536.8909334326327),\n",
       " (1704.5681, 446.85682745451413),\n",
       " (7445.918, 10569.893471538764),\n",
       " (1629.8335, 4205.4863271741615),\n",
       " (4877.98105, 4955.010301602279),\n",
       " (3561.8889, 2343.1681575418897),\n",
       " (8605.3615, 6807.280014836086),\n",
       " (24520.264, 33409.50379785461),\n",
       " (45710.20785, 38246.760476049836),\n",
       " (15019.76005, 14760.230967641312),\n",
       " (6664.68595, 8277.984345779636),\n",
       " (20709.02034, 16149.973370496451),\n",
       " (40932.4295, 32904.75814303302),\n",
       " (9500.57305, 9467.61405776689)]"
      ]
     },
     "execution_count": 8,
     "metadata": {},
     "output_type": "execute_result"
    }
   ],
   "execution_count": 8
  },
  {
   "metadata": {},
   "cell_type": "markdown",
   "source": "## Backward Elimination",
   "id": "7c1f10d3a4f01933"
  },
  {
   "metadata": {
    "ExecuteTime": {
     "end_time": "2024-07-19T06:54:18.565172Z",
     "start_time": "2024-07-19T06:54:16.745118Z"
    }
   },
   "cell_type": "code",
   "source": [
    "import statsmodels.api as sm\n",
    "\n",
    "# adding X_0=1 for b_0 therefore we will add X_0 in X\n",
    "X = np.array(X, dtype=float)\n",
    "Y = np.array(Y, dtype=float)\n",
    "\n",
    "# X=np.append(arr=np.ones((50,1)).astype(int),values=X,axis=1)\n",
    "# # X\n",
    "\n",
    "# Backward Elimination\n",
    "X = np.append(arr=np.ones((X.shape[0], 1)).astype(int), values=X, axis=1)  # Adding the intercept term\n",
    "\n",
    "\n",
    "# # X_opt will contain only variables that are significant\n",
    "X_opt = X[:, [0, 1, 2, 3, 4, 5,6,7,8]]\n",
    "# X_opt = X[:, list(range(X.shape[1]))]\n",
    "\n",
    "# Fit the model will all possible predictor\n",
    "regressor_ols = sm.OLS(endog=Y, exog=X_opt).fit()\n",
    "regressor_ols.summary()"
   ],
   "id": "fa24a56f8fc26bed",
   "outputs": [
    {
     "ename": "NameError",
     "evalue": "name 'np' is not defined",
     "output_type": "error",
     "traceback": [
      "\u001B[0;31m---------------------------------------------------------------------------\u001B[0m",
      "\u001B[0;31mNameError\u001B[0m                                 Traceback (most recent call last)",
      "Cell \u001B[0;32mIn[1], line 4\u001B[0m\n\u001B[1;32m      1\u001B[0m \u001B[38;5;28;01mimport\u001B[39;00m \u001B[38;5;21;01mstatsmodels\u001B[39;00m\u001B[38;5;21;01m.\u001B[39;00m\u001B[38;5;21;01mapi\u001B[39;00m \u001B[38;5;28;01mas\u001B[39;00m \u001B[38;5;21;01msm\u001B[39;00m\n\u001B[1;32m      3\u001B[0m \u001B[38;5;66;03m# adding X_0=1 for b_0 therefore we will add X_0 in X\u001B[39;00m\n\u001B[0;32m----> 4\u001B[0m X \u001B[38;5;241m=\u001B[39m np\u001B[38;5;241m.\u001B[39marray(X, dtype\u001B[38;5;241m=\u001B[39m\u001B[38;5;28mfloat\u001B[39m)\n\u001B[1;32m      5\u001B[0m Y \u001B[38;5;241m=\u001B[39m np\u001B[38;5;241m.\u001B[39marray(Y, dtype\u001B[38;5;241m=\u001B[39m\u001B[38;5;28mfloat\u001B[39m)\n\u001B[1;32m      7\u001B[0m \u001B[38;5;66;03m# X=np.append(arr=np.ones((50,1)).astype(int),values=X,axis=1)\u001B[39;00m\n\u001B[1;32m      8\u001B[0m \u001B[38;5;66;03m# # X\u001B[39;00m\n\u001B[1;32m      9\u001B[0m \n\u001B[1;32m     10\u001B[0m \u001B[38;5;66;03m# Backward Elimination\u001B[39;00m\n",
      "\u001B[0;31mNameError\u001B[0m: name 'np' is not defined"
     ]
    }
   ],
   "execution_count": 1
  },
  {
   "metadata": {
    "ExecuteTime": {
     "end_time": "2024-07-16T09:15:15.485723Z",
     "start_time": "2024-07-16T09:15:15.350894Z"
    }
   },
   "cell_type": "code",
   "source": [
    "\n",
    "X_opt=X[:,[0,1,3,4,5,6,7]]\n",
    "\n",
    "# Fit the model will all possible predictor\n",
    "regressor_ols=sm.OLS(endog=Y,exog=X_opt).fit()\n",
    "regressor_ols.summary()\n"
   ],
   "id": "61650ac1bee21997",
   "outputs": [
    {
     "data": {
      "text/plain": [
       "<class 'statsmodels.iolib.summary.Summary'>\n",
       "\"\"\"\n",
       "                            OLS Regression Results                            \n",
       "==============================================================================\n",
       "Dep. Variable:                      y   R-squared:                       0.126\n",
       "Model:                            OLS   Adj. R-squared:                  0.122\n",
       "Method:                 Least Squares   F-statistic:                     32.10\n",
       "Date:                Tue, 16 Jul 2024   Prob (F-statistic):           3.15e-36\n",
       "Time:                        14:15:15   Log-Likelihood:                -14387.\n",
       "No. Observations:                1338   AIC:                         2.879e+04\n",
       "Df Residuals:                    1331   BIC:                         2.882e+04\n",
       "Df Model:                           6                                         \n",
       "Covariance Type:            nonrobust                                         \n",
       "==============================================================================\n",
       "                 coef    std err          t      P>|t|      [0.025      0.975]\n",
       "------------------------------------------------------------------------------\n",
       "const      -6519.0742   1838.178     -3.546      0.000   -1.01e+04   -2913.032\n",
       "x1         -1060.7013    772.429     -1.373      0.170   -2576.013     454.611\n",
       "x2         -1639.4930    765.141     -2.143      0.032   -3140.508    -138.478\n",
       "x3           242.1894     22.246     10.887      0.000     198.548     285.831\n",
       "x4          1311.5834    621.292      2.111      0.035      92.766    2530.401\n",
       "x5           315.6468     51.807      6.093      0.000     214.014     417.279\n",
       "x6           555.6482    257.863      2.155      0.031      49.786    1061.510\n",
       "==============================================================================\n",
       "Omnibus:                      322.562   Durbin-Watson:                   2.025\n",
       "Prob(Omnibus):                  0.000   Jarque-Bera (JB):              595.923\n",
       "Skew:                           1.507   Prob(JB):                    3.95e-130\n",
       "Kurtosis:                       4.268   Cond. No.                         307.\n",
       "==============================================================================\n",
       "\n",
       "Notes:\n",
       "[1] Standard Errors assume that the covariance matrix of the errors is correctly specified.\n",
       "\"\"\""
      ],
      "text/html": [
       "<table class=\"simpletable\">\n",
       "<caption>OLS Regression Results</caption>\n",
       "<tr>\n",
       "  <th>Dep. Variable:</th>            <td>y</td>        <th>  R-squared:         </th> <td>   0.126</td> \n",
       "</tr>\n",
       "<tr>\n",
       "  <th>Model:</th>                   <td>OLS</td>       <th>  Adj. R-squared:    </th> <td>   0.122</td> \n",
       "</tr>\n",
       "<tr>\n",
       "  <th>Method:</th>             <td>Least Squares</td>  <th>  F-statistic:       </th> <td>   32.10</td> \n",
       "</tr>\n",
       "<tr>\n",
       "  <th>Date:</th>             <td>Tue, 16 Jul 2024</td> <th>  Prob (F-statistic):</th> <td>3.15e-36</td> \n",
       "</tr>\n",
       "<tr>\n",
       "  <th>Time:</th>                 <td>14:15:15</td>     <th>  Log-Likelihood:    </th> <td> -14387.</td> \n",
       "</tr>\n",
       "<tr>\n",
       "  <th>No. Observations:</th>      <td>  1338</td>      <th>  AIC:               </th> <td>2.879e+04</td>\n",
       "</tr>\n",
       "<tr>\n",
       "  <th>Df Residuals:</th>          <td>  1331</td>      <th>  BIC:               </th> <td>2.882e+04</td>\n",
       "</tr>\n",
       "<tr>\n",
       "  <th>Df Model:</th>              <td>     6</td>      <th>                     </th>     <td> </td>    \n",
       "</tr>\n",
       "<tr>\n",
       "  <th>Covariance Type:</th>      <td>nonrobust</td>    <th>                     </th>     <td> </td>    \n",
       "</tr>\n",
       "</table>\n",
       "<table class=\"simpletable\">\n",
       "<tr>\n",
       "    <td></td>       <th>coef</th>     <th>std err</th>      <th>t</th>      <th>P>|t|</th>  <th>[0.025</th>    <th>0.975]</th>  \n",
       "</tr>\n",
       "<tr>\n",
       "  <th>const</th> <td>-6519.0742</td> <td> 1838.178</td> <td>   -3.546</td> <td> 0.000</td> <td>-1.01e+04</td> <td>-2913.032</td>\n",
       "</tr>\n",
       "<tr>\n",
       "  <th>x1</th>    <td>-1060.7013</td> <td>  772.429</td> <td>   -1.373</td> <td> 0.170</td> <td>-2576.013</td> <td>  454.611</td>\n",
       "</tr>\n",
       "<tr>\n",
       "  <th>x2</th>    <td>-1639.4930</td> <td>  765.141</td> <td>   -2.143</td> <td> 0.032</td> <td>-3140.508</td> <td> -138.478</td>\n",
       "</tr>\n",
       "<tr>\n",
       "  <th>x3</th>    <td>  242.1894</td> <td>   22.246</td> <td>   10.887</td> <td> 0.000</td> <td>  198.548</td> <td>  285.831</td>\n",
       "</tr>\n",
       "<tr>\n",
       "  <th>x4</th>    <td> 1311.5834</td> <td>  621.292</td> <td>    2.111</td> <td> 0.035</td> <td>   92.766</td> <td> 2530.401</td>\n",
       "</tr>\n",
       "<tr>\n",
       "  <th>x5</th>    <td>  315.6468</td> <td>   51.807</td> <td>    6.093</td> <td> 0.000</td> <td>  214.014</td> <td>  417.279</td>\n",
       "</tr>\n",
       "<tr>\n",
       "  <th>x6</th>    <td>  555.6482</td> <td>  257.863</td> <td>    2.155</td> <td> 0.031</td> <td>   49.786</td> <td> 1061.510</td>\n",
       "</tr>\n",
       "</table>\n",
       "<table class=\"simpletable\">\n",
       "<tr>\n",
       "  <th>Omnibus:</th>       <td>322.562</td> <th>  Durbin-Watson:     </th> <td>   2.025</td> \n",
       "</tr>\n",
       "<tr>\n",
       "  <th>Prob(Omnibus):</th> <td> 0.000</td>  <th>  Jarque-Bera (JB):  </th> <td> 595.923</td> \n",
       "</tr>\n",
       "<tr>\n",
       "  <th>Skew:</th>          <td> 1.507</td>  <th>  Prob(JB):          </th> <td>3.95e-130</td>\n",
       "</tr>\n",
       "<tr>\n",
       "  <th>Kurtosis:</th>      <td> 4.268</td>  <th>  Cond. No.          </th> <td>    307.</td> \n",
       "</tr>\n",
       "</table><br/><br/>Notes:<br/>[1] Standard Errors assume that the covariance matrix of the errors is correctly specified."
      ],
      "text/latex": "\\begin{center}\n\\begin{tabular}{lclc}\n\\toprule\n\\textbf{Dep. Variable:}    &        y         & \\textbf{  R-squared:         } &     0.126   \\\\\n\\textbf{Model:}            &       OLS        & \\textbf{  Adj. R-squared:    } &     0.122   \\\\\n\\textbf{Method:}           &  Least Squares   & \\textbf{  F-statistic:       } &     32.10   \\\\\n\\textbf{Date:}             & Tue, 16 Jul 2024 & \\textbf{  Prob (F-statistic):} &  3.15e-36   \\\\\n\\textbf{Time:}             &     14:15:15     & \\textbf{  Log-Likelihood:    } &   -14387.   \\\\\n\\textbf{No. Observations:} &        1338      & \\textbf{  AIC:               } & 2.879e+04   \\\\\n\\textbf{Df Residuals:}     &        1331      & \\textbf{  BIC:               } & 2.882e+04   \\\\\n\\textbf{Df Model:}         &           6      & \\textbf{                     } &             \\\\\n\\textbf{Covariance Type:}  &    nonrobust     & \\textbf{                     } &             \\\\\n\\bottomrule\n\\end{tabular}\n\\begin{tabular}{lcccccc}\n               & \\textbf{coef} & \\textbf{std err} & \\textbf{t} & \\textbf{P$> |$t$|$} & \\textbf{[0.025} & \\textbf{0.975]}  \\\\\n\\midrule\n\\textbf{const} &   -6519.0742  &     1838.178     &    -3.546  &         0.000        &    -1.01e+04    &    -2913.032     \\\\\n\\textbf{x1}    &   -1060.7013  &      772.429     &    -1.373  &         0.170        &    -2576.013    &      454.611     \\\\\n\\textbf{x2}    &   -1639.4930  &      765.141     &    -2.143  &         0.032        &    -3140.508    &     -138.478     \\\\\n\\textbf{x3}    &     242.1894  &       22.246     &    10.887  &         0.000        &      198.548    &      285.831     \\\\\n\\textbf{x4}    &    1311.5834  &      621.292     &     2.111  &         0.035        &       92.766    &     2530.401     \\\\\n\\textbf{x5}    &     315.6468  &       51.807     &     6.093  &         0.000        &      214.014    &      417.279     \\\\\n\\textbf{x6}    &     555.6482  &      257.863     &     2.155  &         0.031        &       49.786    &     1061.510     \\\\\n\\bottomrule\n\\end{tabular}\n\\begin{tabular}{lclc}\n\\textbf{Omnibus:}       & 322.562 & \\textbf{  Durbin-Watson:     } &     2.025  \\\\\n\\textbf{Prob(Omnibus):} &   0.000 & \\textbf{  Jarque-Bera (JB):  } &   595.923  \\\\\n\\textbf{Skew:}          &   1.507 & \\textbf{  Prob(JB):          } & 3.95e-130  \\\\\n\\textbf{Kurtosis:}      &   4.268 & \\textbf{  Cond. No.          } &      307.  \\\\\n\\bottomrule\n\\end{tabular}\n%\\caption{OLS Regression Results}\n\\end{center}\n\nNotes: \\newline\n [1] Standard Errors assume that the covariance matrix of the errors is correctly specified."
     },
     "execution_count": 10,
     "metadata": {},
     "output_type": "execute_result"
    }
   ],
   "execution_count": 10
  },
  {
   "metadata": {
    "ExecuteTime": {
     "end_time": "2024-07-16T09:15:17.072702Z",
     "start_time": "2024-07-16T09:15:17.026017Z"
    }
   },
   "cell_type": "code",
   "source": [
    "\n",
    "X_opt=X[:,[0,3,4,5,6,7]]\n",
    "\n",
    "# Fit the model will all possible predictor\n",
    "regressor_ols=sm.OLS(endog=Y,exog=X_opt).fit()\n",
    "regressor_ols.summary()"
   ],
   "id": "6003d6dc6441396d",
   "outputs": [
    {
     "data": {
      "text/plain": [
       "<class 'statsmodels.iolib.summary.Summary'>\n",
       "\"\"\"\n",
       "                            OLS Regression Results                            \n",
       "==============================================================================\n",
       "Dep. Variable:                      y   R-squared:                       0.125\n",
       "Model:                            OLS   Adj. R-squared:                  0.122\n",
       "Method:                 Least Squares   F-statistic:                     38.12\n",
       "Date:                Tue, 16 Jul 2024   Prob (F-statistic):           1.21e-36\n",
       "Time:                        14:15:17   Log-Likelihood:                -14388.\n",
       "No. Observations:                1338   AIC:                         2.879e+04\n",
       "Df Residuals:                    1332   BIC:                         2.882e+04\n",
       "Df Model:                           5                                         \n",
       "Covariance Type:            nonrobust                                         \n",
       "==============================================================================\n",
       "                 coef    std err          t      P>|t|      [0.025      0.975]\n",
       "------------------------------------------------------------------------------\n",
       "const      -7148.1789   1780.765     -4.014      0.000   -1.06e+04   -3654.770\n",
       "x1         -1297.2956    723.665     -1.793      0.073   -2716.942     122.351\n",
       "x2           241.6524     22.250     10.861      0.000     198.003     285.302\n",
       "x3          1317.2585    621.484      2.120      0.034      98.064    2536.454\n",
       "x4           326.0890     51.263      6.361      0.000     225.524     426.654\n",
       "x5           543.1675    257.788      2.107      0.035      37.452    1048.883\n",
       "==============================================================================\n",
       "Omnibus:                      322.317   Durbin-Watson:                   2.027\n",
       "Prob(Omnibus):                  0.000   Jarque-Bera (JB):              594.844\n",
       "Skew:                           1.508   Prob(JB):                    6.78e-130\n",
       "Kurtosis:                       4.256   Cond. No.                         295.\n",
       "==============================================================================\n",
       "\n",
       "Notes:\n",
       "[1] Standard Errors assume that the covariance matrix of the errors is correctly specified.\n",
       "\"\"\""
      ],
      "text/html": [
       "<table class=\"simpletable\">\n",
       "<caption>OLS Regression Results</caption>\n",
       "<tr>\n",
       "  <th>Dep. Variable:</th>            <td>y</td>        <th>  R-squared:         </th> <td>   0.125</td> \n",
       "</tr>\n",
       "<tr>\n",
       "  <th>Model:</th>                   <td>OLS</td>       <th>  Adj. R-squared:    </th> <td>   0.122</td> \n",
       "</tr>\n",
       "<tr>\n",
       "  <th>Method:</th>             <td>Least Squares</td>  <th>  F-statistic:       </th> <td>   38.12</td> \n",
       "</tr>\n",
       "<tr>\n",
       "  <th>Date:</th>             <td>Tue, 16 Jul 2024</td> <th>  Prob (F-statistic):</th> <td>1.21e-36</td> \n",
       "</tr>\n",
       "<tr>\n",
       "  <th>Time:</th>                 <td>14:15:17</td>     <th>  Log-Likelihood:    </th> <td> -14388.</td> \n",
       "</tr>\n",
       "<tr>\n",
       "  <th>No. Observations:</th>      <td>  1338</td>      <th>  AIC:               </th> <td>2.879e+04</td>\n",
       "</tr>\n",
       "<tr>\n",
       "  <th>Df Residuals:</th>          <td>  1332</td>      <th>  BIC:               </th> <td>2.882e+04</td>\n",
       "</tr>\n",
       "<tr>\n",
       "  <th>Df Model:</th>              <td>     5</td>      <th>                     </th>     <td> </td>    \n",
       "</tr>\n",
       "<tr>\n",
       "  <th>Covariance Type:</th>      <td>nonrobust</td>    <th>                     </th>     <td> </td>    \n",
       "</tr>\n",
       "</table>\n",
       "<table class=\"simpletable\">\n",
       "<tr>\n",
       "    <td></td>       <th>coef</th>     <th>std err</th>      <th>t</th>      <th>P>|t|</th>  <th>[0.025</th>    <th>0.975]</th>  \n",
       "</tr>\n",
       "<tr>\n",
       "  <th>const</th> <td>-7148.1789</td> <td> 1780.765</td> <td>   -4.014</td> <td> 0.000</td> <td>-1.06e+04</td> <td>-3654.770</td>\n",
       "</tr>\n",
       "<tr>\n",
       "  <th>x1</th>    <td>-1297.2956</td> <td>  723.665</td> <td>   -1.793</td> <td> 0.073</td> <td>-2716.942</td> <td>  122.351</td>\n",
       "</tr>\n",
       "<tr>\n",
       "  <th>x2</th>    <td>  241.6524</td> <td>   22.250</td> <td>   10.861</td> <td> 0.000</td> <td>  198.003</td> <td>  285.302</td>\n",
       "</tr>\n",
       "<tr>\n",
       "  <th>x3</th>    <td> 1317.2585</td> <td>  621.484</td> <td>    2.120</td> <td> 0.034</td> <td>   98.064</td> <td> 2536.454</td>\n",
       "</tr>\n",
       "<tr>\n",
       "  <th>x4</th>    <td>  326.0890</td> <td>   51.263</td> <td>    6.361</td> <td> 0.000</td> <td>  225.524</td> <td>  426.654</td>\n",
       "</tr>\n",
       "<tr>\n",
       "  <th>x5</th>    <td>  543.1675</td> <td>  257.788</td> <td>    2.107</td> <td> 0.035</td> <td>   37.452</td> <td> 1048.883</td>\n",
       "</tr>\n",
       "</table>\n",
       "<table class=\"simpletable\">\n",
       "<tr>\n",
       "  <th>Omnibus:</th>       <td>322.317</td> <th>  Durbin-Watson:     </th> <td>   2.027</td> \n",
       "</tr>\n",
       "<tr>\n",
       "  <th>Prob(Omnibus):</th> <td> 0.000</td>  <th>  Jarque-Bera (JB):  </th> <td> 594.844</td> \n",
       "</tr>\n",
       "<tr>\n",
       "  <th>Skew:</th>          <td> 1.508</td>  <th>  Prob(JB):          </th> <td>6.78e-130</td>\n",
       "</tr>\n",
       "<tr>\n",
       "  <th>Kurtosis:</th>      <td> 4.256</td>  <th>  Cond. No.          </th> <td>    295.</td> \n",
       "</tr>\n",
       "</table><br/><br/>Notes:<br/>[1] Standard Errors assume that the covariance matrix of the errors is correctly specified."
      ],
      "text/latex": "\\begin{center}\n\\begin{tabular}{lclc}\n\\toprule\n\\textbf{Dep. Variable:}    &        y         & \\textbf{  R-squared:         } &     0.125   \\\\\n\\textbf{Model:}            &       OLS        & \\textbf{  Adj. R-squared:    } &     0.122   \\\\\n\\textbf{Method:}           &  Least Squares   & \\textbf{  F-statistic:       } &     38.12   \\\\\n\\textbf{Date:}             & Tue, 16 Jul 2024 & \\textbf{  Prob (F-statistic):} &  1.21e-36   \\\\\n\\textbf{Time:}             &     14:15:17     & \\textbf{  Log-Likelihood:    } &   -14388.   \\\\\n\\textbf{No. Observations:} &        1338      & \\textbf{  AIC:               } & 2.879e+04   \\\\\n\\textbf{Df Residuals:}     &        1332      & \\textbf{  BIC:               } & 2.882e+04   \\\\\n\\textbf{Df Model:}         &           5      & \\textbf{                     } &             \\\\\n\\textbf{Covariance Type:}  &    nonrobust     & \\textbf{                     } &             \\\\\n\\bottomrule\n\\end{tabular}\n\\begin{tabular}{lcccccc}\n               & \\textbf{coef} & \\textbf{std err} & \\textbf{t} & \\textbf{P$> |$t$|$} & \\textbf{[0.025} & \\textbf{0.975]}  \\\\\n\\midrule\n\\textbf{const} &   -7148.1789  &     1780.765     &    -4.014  &         0.000        &    -1.06e+04    &    -3654.770     \\\\\n\\textbf{x1}    &   -1297.2956  &      723.665     &    -1.793  &         0.073        &    -2716.942    &      122.351     \\\\\n\\textbf{x2}    &     241.6524  &       22.250     &    10.861  &         0.000        &      198.003    &      285.302     \\\\\n\\textbf{x3}    &    1317.2585  &      621.484     &     2.120  &         0.034        &       98.064    &     2536.454     \\\\\n\\textbf{x4}    &     326.0890  &       51.263     &     6.361  &         0.000        &      225.524    &      426.654     \\\\\n\\textbf{x5}    &     543.1675  &      257.788     &     2.107  &         0.035        &       37.452    &     1048.883     \\\\\n\\bottomrule\n\\end{tabular}\n\\begin{tabular}{lclc}\n\\textbf{Omnibus:}       & 322.317 & \\textbf{  Durbin-Watson:     } &     2.027  \\\\\n\\textbf{Prob(Omnibus):} &   0.000 & \\textbf{  Jarque-Bera (JB):  } &   594.844  \\\\\n\\textbf{Skew:}          &   1.508 & \\textbf{  Prob(JB):          } & 6.78e-130  \\\\\n\\textbf{Kurtosis:}      &   4.256 & \\textbf{  Cond. No.          } &      295.  \\\\\n\\bottomrule\n\\end{tabular}\n%\\caption{OLS Regression Results}\n\\end{center}\n\nNotes: \\newline\n [1] Standard Errors assume that the covariance matrix of the errors is correctly specified."
     },
     "execution_count": 11,
     "metadata": {},
     "output_type": "execute_result"
    }
   ],
   "execution_count": 11
  },
  {
   "metadata": {
    "ExecuteTime": {
     "end_time": "2024-07-16T09:15:19.345676Z",
     "start_time": "2024-07-16T09:15:19.298956Z"
    }
   },
   "cell_type": "code",
   "source": [
    "\n",
    "X_opt=X[:,[0,4,5,6,7]]\n",
    "\n",
    "# Fit the model will all possible predictor\n",
    "regressor_ols=sm.OLS(endog=Y,exog=X_opt).fit()\n",
    "regressor_ols.summary()"
   ],
   "id": "8f0f5e833f133510",
   "outputs": [
    {
     "data": {
      "text/plain": [
       "<class 'statsmodels.iolib.summary.Summary'>\n",
       "\"\"\"\n",
       "                            OLS Regression Results                            \n",
       "==============================================================================\n",
       "Dep. Variable:                      y   R-squared:                       0.123\n",
       "Model:                            OLS   Adj. R-squared:                  0.120\n",
       "Method:                 Least Squares   F-statistic:                     46.77\n",
       "Date:                Tue, 16 Jul 2024   Prob (F-statistic):           8.05e-37\n",
       "Time:                        14:15:19   Log-Likelihood:                -14390.\n",
       "No. Observations:                1338   AIC:                         2.879e+04\n",
       "Df Residuals:                    1333   BIC:                         2.882e+04\n",
       "Df Model:                           4                                         \n",
       "Covariance Type:            nonrobust                                         \n",
       "==============================================================================\n",
       "                 coef    std err          t      P>|t|      [0.025      0.975]\n",
       "------------------------------------------------------------------------------\n",
       "const      -7459.9696   1773.722     -4.206      0.000   -1.09e+04   -3980.380\n",
       "x1           241.2635     22.268     10.835      0.000     197.580     284.947\n",
       "x2          1321.7198    621.995      2.125      0.034     101.523    2541.916\n",
       "x3           326.7615     51.304      6.369      0.000     226.116     427.407\n",
       "x4           533.1681    257.942      2.067      0.039      27.152    1039.185\n",
       "==============================================================================\n",
       "Omnibus:                      321.539   Durbin-Watson:                   2.022\n",
       "Prob(Omnibus):                  0.000   Jarque-Bera (JB):              592.267\n",
       "Skew:                           1.506   Prob(JB):                    2.46e-129\n",
       "Kurtosis:                       4.243   Cond. No.                         293.\n",
       "==============================================================================\n",
       "\n",
       "Notes:\n",
       "[1] Standard Errors assume that the covariance matrix of the errors is correctly specified.\n",
       "\"\"\""
      ],
      "text/html": [
       "<table class=\"simpletable\">\n",
       "<caption>OLS Regression Results</caption>\n",
       "<tr>\n",
       "  <th>Dep. Variable:</th>            <td>y</td>        <th>  R-squared:         </th> <td>   0.123</td> \n",
       "</tr>\n",
       "<tr>\n",
       "  <th>Model:</th>                   <td>OLS</td>       <th>  Adj. R-squared:    </th> <td>   0.120</td> \n",
       "</tr>\n",
       "<tr>\n",
       "  <th>Method:</th>             <td>Least Squares</td>  <th>  F-statistic:       </th> <td>   46.77</td> \n",
       "</tr>\n",
       "<tr>\n",
       "  <th>Date:</th>             <td>Tue, 16 Jul 2024</td> <th>  Prob (F-statistic):</th> <td>8.05e-37</td> \n",
       "</tr>\n",
       "<tr>\n",
       "  <th>Time:</th>                 <td>14:15:19</td>     <th>  Log-Likelihood:    </th> <td> -14390.</td> \n",
       "</tr>\n",
       "<tr>\n",
       "  <th>No. Observations:</th>      <td>  1338</td>      <th>  AIC:               </th> <td>2.879e+04</td>\n",
       "</tr>\n",
       "<tr>\n",
       "  <th>Df Residuals:</th>          <td>  1333</td>      <th>  BIC:               </th> <td>2.882e+04</td>\n",
       "</tr>\n",
       "<tr>\n",
       "  <th>Df Model:</th>              <td>     4</td>      <th>                     </th>     <td> </td>    \n",
       "</tr>\n",
       "<tr>\n",
       "  <th>Covariance Type:</th>      <td>nonrobust</td>    <th>                     </th>     <td> </td>    \n",
       "</tr>\n",
       "</table>\n",
       "<table class=\"simpletable\">\n",
       "<tr>\n",
       "    <td></td>       <th>coef</th>     <th>std err</th>      <th>t</th>      <th>P>|t|</th>  <th>[0.025</th>    <th>0.975]</th>  \n",
       "</tr>\n",
       "<tr>\n",
       "  <th>const</th> <td>-7459.9696</td> <td> 1773.722</td> <td>   -4.206</td> <td> 0.000</td> <td>-1.09e+04</td> <td>-3980.380</td>\n",
       "</tr>\n",
       "<tr>\n",
       "  <th>x1</th>    <td>  241.2635</td> <td>   22.268</td> <td>   10.835</td> <td> 0.000</td> <td>  197.580</td> <td>  284.947</td>\n",
       "</tr>\n",
       "<tr>\n",
       "  <th>x2</th>    <td> 1321.7198</td> <td>  621.995</td> <td>    2.125</td> <td> 0.034</td> <td>  101.523</td> <td> 2541.916</td>\n",
       "</tr>\n",
       "<tr>\n",
       "  <th>x3</th>    <td>  326.7615</td> <td>   51.304</td> <td>    6.369</td> <td> 0.000</td> <td>  226.116</td> <td>  427.407</td>\n",
       "</tr>\n",
       "<tr>\n",
       "  <th>x4</th>    <td>  533.1681</td> <td>  257.942</td> <td>    2.067</td> <td> 0.039</td> <td>   27.152</td> <td> 1039.185</td>\n",
       "</tr>\n",
       "</table>\n",
       "<table class=\"simpletable\">\n",
       "<tr>\n",
       "  <th>Omnibus:</th>       <td>321.539</td> <th>  Durbin-Watson:     </th> <td>   2.022</td> \n",
       "</tr>\n",
       "<tr>\n",
       "  <th>Prob(Omnibus):</th> <td> 0.000</td>  <th>  Jarque-Bera (JB):  </th> <td> 592.267</td> \n",
       "</tr>\n",
       "<tr>\n",
       "  <th>Skew:</th>          <td> 1.506</td>  <th>  Prob(JB):          </th> <td>2.46e-129</td>\n",
       "</tr>\n",
       "<tr>\n",
       "  <th>Kurtosis:</th>      <td> 4.243</td>  <th>  Cond. No.          </th> <td>    293.</td> \n",
       "</tr>\n",
       "</table><br/><br/>Notes:<br/>[1] Standard Errors assume that the covariance matrix of the errors is correctly specified."
      ],
      "text/latex": "\\begin{center}\n\\begin{tabular}{lclc}\n\\toprule\n\\textbf{Dep. Variable:}    &        y         & \\textbf{  R-squared:         } &     0.123   \\\\\n\\textbf{Model:}            &       OLS        & \\textbf{  Adj. R-squared:    } &     0.120   \\\\\n\\textbf{Method:}           &  Least Squares   & \\textbf{  F-statistic:       } &     46.77   \\\\\n\\textbf{Date:}             & Tue, 16 Jul 2024 & \\textbf{  Prob (F-statistic):} &  8.05e-37   \\\\\n\\textbf{Time:}             &     14:15:19     & \\textbf{  Log-Likelihood:    } &   -14390.   \\\\\n\\textbf{No. Observations:} &        1338      & \\textbf{  AIC:               } & 2.879e+04   \\\\\n\\textbf{Df Residuals:}     &        1333      & \\textbf{  BIC:               } & 2.882e+04   \\\\\n\\textbf{Df Model:}         &           4      & \\textbf{                     } &             \\\\\n\\textbf{Covariance Type:}  &    nonrobust     & \\textbf{                     } &             \\\\\n\\bottomrule\n\\end{tabular}\n\\begin{tabular}{lcccccc}\n               & \\textbf{coef} & \\textbf{std err} & \\textbf{t} & \\textbf{P$> |$t$|$} & \\textbf{[0.025} & \\textbf{0.975]}  \\\\\n\\midrule\n\\textbf{const} &   -7459.9696  &     1773.722     &    -4.206  &         0.000        &    -1.09e+04    &    -3980.380     \\\\\n\\textbf{x1}    &     241.2635  &       22.268     &    10.835  &         0.000        &      197.580    &      284.947     \\\\\n\\textbf{x2}    &    1321.7198  &      621.995     &     2.125  &         0.034        &      101.523    &     2541.916     \\\\\n\\textbf{x3}    &     326.7615  &       51.304     &     6.369  &         0.000        &      226.116    &      427.407     \\\\\n\\textbf{x4}    &     533.1681  &      257.942     &     2.067  &         0.039        &       27.152    &     1039.185     \\\\\n\\bottomrule\n\\end{tabular}\n\\begin{tabular}{lclc}\n\\textbf{Omnibus:}       & 321.539 & \\textbf{  Durbin-Watson:     } &     2.022  \\\\\n\\textbf{Prob(Omnibus):} &   0.000 & \\textbf{  Jarque-Bera (JB):  } &   592.267  \\\\\n\\textbf{Skew:}          &   1.506 & \\textbf{  Prob(JB):          } & 2.46e-129  \\\\\n\\textbf{Kurtosis:}      &   4.243 & \\textbf{  Cond. No.          } &      293.  \\\\\n\\bottomrule\n\\end{tabular}\n%\\caption{OLS Regression Results}\n\\end{center}\n\nNotes: \\newline\n [1] Standard Errors assume that the covariance matrix of the errors is correctly specified."
     },
     "execution_count": 12,
     "metadata": {},
     "output_type": "execute_result"
    }
   ],
   "execution_count": 12
  },
  {
   "metadata": {
    "ExecuteTime": {
     "end_time": "2024-07-16T07:40:00.133659Z",
     "start_time": "2024-07-16T07:40:00.123901Z"
    }
   },
   "cell_type": "code",
   "source": [
    "from sklearn.metrics import mean_absolute_error, mean_squared_error, r2_score\n",
    "# Calculate Mean Absolute Error (MAE)\n",
    "mae = mean_absolute_error(Y_test, Y_pred)\n",
    "print(f'Mean Absolute Error (MAE): {mae}')\n",
    "\n",
    "# Calculate Mean Squared Error (MSE)\n",
    "mse = mean_squared_error(Y_test,Y_pred)\n",
    "print(f'Mean Squared Error (MSE): {mse}')\n",
    "\n",
    "# Calculate Root Mean Squared Error (RMSE)\n",
    "rmse = np.sqrt(mse)\n",
    "print(f'Root Mean Squared Error (RMSE): {rmse}')\n",
    "\n",
    "# Calculate R-squared (R²)\n",
    "r2 = r2_score(Y_test, Y_pred)\n",
    "print(f'R-squared (R²): {r2}')"
   ],
   "id": "4f2634a35c46024a",
   "outputs": [
    {
     "name": "stdout",
     "output_type": "stream",
     "text": [
      "Mean Absolute Error (MAE): 3933.272649405239\n",
      "Mean Squared Error (MSE): 31827950.229523797\n",
      "Root Mean Squared Error (RMSE): 5641.6265588501865\n",
      "R-squared (R²): 0.7999876970680436\n"
     ]
    }
   ],
   "execution_count": 80
  },
  {
   "metadata": {},
   "cell_type": "code",
   "outputs": [],
   "execution_count": null,
   "source": "",
   "id": "274d8d14cd987c98"
  },
  {
   "metadata": {},
   "cell_type": "markdown",
   "source": "## Polynomial Regression\n",
   "id": "56e15d2951d2e41a"
  },
  {
   "metadata": {
    "ExecuteTime": {
     "end_time": "2024-07-16T09:15:23.100779Z",
     "start_time": "2024-07-16T09:15:23.089726Z"
    }
   },
   "cell_type": "code",
   "source": [
    "from sklearn.preprocessing import PolynomialFeatures\n",
    "# Transform the matrix into new feature of matrix contain independent variable and may be it power of \"n\" where n=1,2...\n",
    "poly_reg=PolynomialFeatures(degree=4)#default degree is 02\n",
    "x_poly_matrix=poly_reg.fit_transform(X_train)\n",
    "\n",
    "#b_0*x_1('Created Automatically')+b_1*x_1+b_2*(x_1)^2"
   ],
   "id": "a9421a1c33b03268",
   "outputs": [],
   "execution_count": 13
  },
  {
   "metadata": {
    "ExecuteTime": {
     "end_time": "2024-07-16T09:16:05.060608Z",
     "start_time": "2024-07-16T09:16:04.503289Z"
    }
   },
   "cell_type": "code",
   "source": [
    "\n",
    "from sklearn.metrics import mean_absolute_error, mean_squared_error, r2_score\n",
    "x_poly_matrix\n",
    "\n",
    "regressor = LinearRegression()\n",
    "regressor.fit(x_poly_matrix, Y_train)\n",
    "\n",
    "# To make predictions on the training data\n",
    "Y_pred_train = regressor.predict(x_poly_matrix)\n",
    "\n",
    "X_poly_test = poly_reg.transform(X_test)\n",
    "\n",
    "# Make predictions on the test data\n",
    "Y_pred_test = regressor.predict(X_poly_test)\n",
    "\n",
    "# Evaluate the model on the test data\n",
    "mae = mean_absolute_error(Y_test, Y_pred_test)\n",
    "mse = mean_squared_error(Y_test, Y_pred_test)\n",
    "rmse = np.sqrt(mse)\n",
    "r2 = r2_score(Y_test, Y_pred_test)\n",
    "\n",
    "print(f'Mean Absolute Error (MAE): {mae}')\n",
    "print(f'Mean Squared Error (MSE): {mse}')\n",
    "print(f'Root Mean Squared Error (RMSE): {rmse}')\n",
    "print(f'R-squared (R²): {r2}')\n",
    "\n",
    "# Optionally, plot the results\n",
    "plt.scatter(range(len(Y_test)), Y_test, color='red', label='Actual')\n",
    "plt.scatter(range(len(Y_test)), Y_pred_test, color='blue', label='Predicted')\n",
    "plt.title(\"Insurance Prediction (Test Set)\")\n",
    "plt.xlabel(\"Sample index\")\n",
    "plt.ylabel(\"Insurance Cost\")\n",
    "plt.legend()\n",
    "plt.show()"
   ],
   "id": "2595581c66d907b",
   "outputs": [
    {
     "name": "stdout",
     "output_type": "stream",
     "text": [
      "Mean Absolute Error (MAE): 3245.934994365097\n",
      "Mean Squared Error (MSE): 24386687.17406298\n",
      "Root Mean Squared Error (RMSE): 4938.287878816197\n",
      "R-squared (R²): 0.8467498715000185\n"
     ]
    },
    {
     "data": {
      "text/plain": [
       "<Figure size 640x480 with 1 Axes>"
      ],
      "image/png": "[encoded data removed]"
     },
     "metadata": {},
     "output_type": "display_data"
    }
   ],
   "execution_count": 15
  }
 ],
 "metadata": {
  "kernelspec": {
   "display_name": "Python 3",
   "language": "python",
   "name": "python3"
  },
  "language_info": {
   "codemirror_mode": {
    "name": "ipython",
    "version": 2
   },
   "file_extension": ".py",
   "mimetype": "text/x-python",
   "name": "python",
   "nbconvert_exporter": "python",
   "pygments_lexer": "ipython2",
   "version": "2.7.6"
  }
 },
 "nbformat": 4,
 "nbformat_minor": 5
}
